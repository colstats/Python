{
 "cells": [
  {
   "cell_type": "code",
   "execution_count": 1,
   "metadata": {},
   "outputs": [
    {
     "data": {
      "text/html": [
       "<script>requirejs.config({paths: { 'plotly': ['https://cdn.plot.ly/plotly-latest.min']},});if(!window.Plotly) {{require(['plotly'],function(plotly) {window.Plotly=plotly;});}}</script>"
      ],
      "text/vnd.plotly.v1+html": [
       "<script>requirejs.config({paths: { 'plotly': ['https://cdn.plot.ly/plotly-latest.min']},});if(!window.Plotly) {{require(['plotly'],function(plotly) {window.Plotly=plotly;});}}</script>"
      ]
     },
     "metadata": {},
     "output_type": "display_data"
    }
   ],
   "source": [
    "import numpy as np\n",
    "import pandas as pd\n",
    "import matplotlib.pyplot as plt\n",
    "import plotly.offline as py\n",
    "import plotly.graph_objs as go\n",
    "import plotly.tools as tls\n",
    "import seaborn as sns; sns.set()\n",
    "from sklearn.model_selection import train_test_split\n",
    "from sklearn.ensemble import RandomForestClassifier\n",
    "from sklearn.metrics import confusion_matrix\n",
    "\n",
    "py.init_notebook_mode(connected=True)\n",
    "from IPython.core.interactiveshell import InteractiveShell\n",
    "InteractiveShell.ast_node_interactivity = \"all\"\n",
    "%matplotlib inline"
   ]
  },
  {
   "cell_type": "code",
   "execution_count": null,
   "metadata": {},
   "outputs": [],
   "source": [
    "heptitas = pd.read_csv('https://archive.ics.uci.edu/ml/machine-learning-databases/hepatitis/hepatitis.data', header=None, na_values=[\"?\"])"
   ]
  },
  {
   "cell_type": "code",
   "execution_count": null,
   "metadata": {},
   "outputs": [],
   "source": [
    "features = pd.read_csv('https://archive.ics.uci.edu/ml/machine-learning-databases/hepatitis/costs/hepatitis.expense', sep = '\\t', header=None)\n",
    "features = features.iloc[:,0]\n",
    "\n",
    "features = features.str.replace(':', '')\n",
    "features = features.tolist()\n",
    "features.insert(0, 'class')\n",
    "\n",
    "heptitas.columns = features"
   ]
  },
  {
   "cell_type": "code",
   "execution_count": null,
   "metadata": {},
   "outputs": [],
   "source": [
    "n = heptitas.shape[0]\n",
    "percent_missing = np.isnan(heptitas).sum()/n \n",
    "percent_missing\n",
    "heptitas = heptitas.dropna()"
   ]
  },
  {
   "cell_type": "code",
   "execution_count": 5,
   "metadata": {},
   "outputs": [
    {
     "name": "stdout",
     "output_type": "stream",
     "text": [
      "This is the format of your plot grid:\n",
      "[ (1,1) x1,y1 ]  [ (1,2) x2,y2 ]\n",
      "[ (2,1) x3,y3           -      ]\n",
      "\n"
     ]
    },
    {
     "data": {
      "application/vnd.plotly.v1+json": {
       "data": [
        {
         "histnorm": "probability",
         "name": "Died",
         "type": "histogram",
         "uid": "25299a70-b55c-11e8-b904-b88d1204d7f0",
         "x": [
          39,
          59,
          47,
          48,
          47,
          33,
          42,
          50,
          57,
          38,
          47,
          49,
          43
         ],
         "xaxis": "x",
         "xbins": {
          "end": 80,
          "size": 5,
          "start": 0
         },
         "yaxis": "y"
        },
        {
         "histnorm": "probability",
         "name": "Survived",
         "type": "histogram",
         "uid": "252eb906-b55c-11e8-be6f-b88d1204d7f0",
         "x": [
          34,
          39,
          32,
          41,
          30,
          38,
          40,
          38,
          38,
          22,
          27,
          31,
          42,
          25,
          27,
          58,
          61,
          51,
          41,
          26,
          35,
          23,
          42,
          65,
          52,
          33,
          56,
          28,
          36,
          38,
          44,
          40,
          30,
          30,
          64,
          37,
          32,
          32,
          36,
          49,
          39,
          32,
          34,
          34,
          36,
          30,
          62,
          28,
          38,
          50,
          40,
          30,
          27,
          51,
          54,
          50,
          20,
          50,
          34,
          54,
          54,
          72,
          25,
          38,
          45,
          31,
          53
         ],
         "xaxis": "x2",
         "xbins": {
          "end": 80,
          "size": 8,
          "start": 0
         },
         "yaxis": "y2"
        },
        {
         "histnorm": "probability",
         "name": "Overall Age",
         "type": "histogram",
         "uid": "252f9100-b55c-11e8-b7b4-b88d1204d7f0",
         "x": [
          34,
          39,
          32,
          41,
          30,
          38,
          40,
          38,
          38,
          22,
          27,
          31,
          42,
          25,
          27,
          58,
          61,
          51,
          39,
          41,
          26,
          35,
          23,
          42,
          65,
          52,
          33,
          56,
          28,
          36,
          38,
          44,
          40,
          30,
          30,
          64,
          37,
          32,
          32,
          36,
          49,
          39,
          32,
          34,
          34,
          36,
          30,
          62,
          28,
          38,
          50,
          59,
          40,
          30,
          47,
          48,
          27,
          51,
          47,
          54,
          33,
          42,
          50,
          20,
          50,
          34,
          50,
          54,
          57,
          54,
          72,
          38,
          25,
          38,
          47,
          45,
          49,
          31,
          53,
          43
         ],
         "xaxis": "x3",
         "xbins": {
          "end": 80,
          "size": 5,
          "start": 0
         },
         "yaxis": "y3"
        }
       ],
       "layout": {
        "annotations": [
         {
          "font": {
           "size": 16
          },
          "showarrow": false,
          "text": "Died",
          "x": 0.225,
          "xanchor": "center",
          "xref": "paper",
          "y": 1,
          "yanchor": "bottom",
          "yref": "paper"
         },
         {
          "font": {
           "size": 16
          },
          "showarrow": false,
          "text": "Survived",
          "x": 0.775,
          "xanchor": "center",
          "xref": "paper",
          "y": 1,
          "yanchor": "bottom",
          "yref": "paper"
         },
         {
          "font": {
           "size": 16
          },
          "showarrow": false,
          "text": "General Distribuition",
          "x": 0.5,
          "xanchor": "center",
          "xref": "paper",
          "y": 0.375,
          "yanchor": "bottom",
          "yref": "paper"
         }
        ],
        "bargap": 0.05,
        "showlegend": true,
        "title": "Age Distribuition",
        "xaxis": {
         "anchor": "y",
         "domain": [
          0,
          0.45
         ]
        },
        "xaxis2": {
         "anchor": "y2",
         "domain": [
          0.55,
          1
         ]
        },
        "xaxis3": {
         "anchor": "y3",
         "domain": [
          0,
          1
         ]
        },
        "yaxis": {
         "anchor": "x",
         "domain": [
          0.625,
          1
         ]
        },
        "yaxis2": {
         "anchor": "x2",
         "domain": [
          0.625,
          1
         ]
        },
        "yaxis3": {
         "anchor": "x3",
         "domain": [
          0,
          0.375
         ]
        }
       }
      },
      "text/html": [
       "<div id=\"98e7d307-992c-40ed-8c2d-3cc2b981ebfd\" style=\"height: 525px; width: 100%;\" class=\"plotly-graph-div\"></div><script type=\"text/javascript\">require([\"plotly\"], function(Plotly) { window.PLOTLYENV=window.PLOTLYENV || {};window.PLOTLYENV.BASE_URL=\"https://plot.ly\";Plotly.newPlot(\"98e7d307-992c-40ed-8c2d-3cc2b981ebfd\", [{\"histnorm\": \"probability\", \"name\": \"Died\", \"x\": [39, 59, 47, 48, 47, 33, 42, 50, 57, 38, 47, 49, 43], \"xbins\": {\"end\": 80, \"size\": 5, \"start\": 0}, \"type\": \"histogram\", \"uid\": \"25299a70-b55c-11e8-b904-b88d1204d7f0\", \"xaxis\": \"x\", \"yaxis\": \"y\"}, {\"histnorm\": \"probability\", \"name\": \"Survived\", \"x\": [34, 39, 32, 41, 30, 38, 40, 38, 38, 22, 27, 31, 42, 25, 27, 58, 61, 51, 41, 26, 35, 23, 42, 65, 52, 33, 56, 28, 36, 38, 44, 40, 30, 30, 64, 37, 32, 32, 36, 49, 39, 32, 34, 34, 36, 30, 62, 28, 38, 50, 40, 30, 27, 51, 54, 50, 20, 50, 34, 54, 54, 72, 25, 38, 45, 31, 53], \"xbins\": {\"end\": 80, \"size\": 8, \"start\": 0}, \"type\": \"histogram\", \"uid\": \"252eb906-b55c-11e8-be6f-b88d1204d7f0\", \"xaxis\": \"x2\", \"yaxis\": \"y2\"}, {\"histnorm\": \"probability\", \"name\": \"Overall Age\", \"x\": [34, 39, 32, 41, 30, 38, 40, 38, 38, 22, 27, 31, 42, 25, 27, 58, 61, 51, 39, 41, 26, 35, 23, 42, 65, 52, 33, 56, 28, 36, 38, 44, 40, 30, 30, 64, 37, 32, 32, 36, 49, 39, 32, 34, 34, 36, 30, 62, 28, 38, 50, 59, 40, 30, 47, 48, 27, 51, 47, 54, 33, 42, 50, 20, 50, 34, 50, 54, 57, 54, 72, 38, 25, 38, 47, 45, 49, 31, 53, 43], \"xbins\": {\"end\": 80, \"size\": 5, \"start\": 0}, \"type\": \"histogram\", \"uid\": \"252f9100-b55c-11e8-b7b4-b88d1204d7f0\", \"xaxis\": \"x3\", \"yaxis\": \"y3\"}], {\"annotations\": [{\"font\": {\"size\": 16}, \"showarrow\": false, \"text\": \"Died\", \"x\": 0.225, \"xanchor\": \"center\", \"xref\": \"paper\", \"y\": 1.0, \"yanchor\": \"bottom\", \"yref\": \"paper\"}, {\"font\": {\"size\": 16}, \"showarrow\": false, \"text\": \"Survived\", \"x\": 0.775, \"xanchor\": \"center\", \"xref\": \"paper\", \"y\": 1.0, \"yanchor\": \"bottom\", \"yref\": \"paper\"}, {\"font\": {\"size\": 16}, \"showarrow\": false, \"text\": \"General Distribuition\", \"x\": 0.5, \"xanchor\": \"center\", \"xref\": \"paper\", \"y\": 0.375, \"yanchor\": \"bottom\", \"yref\": \"paper\"}], \"xaxis\": {\"anchor\": \"y\", \"domain\": [0.0, 0.45]}, \"yaxis\": {\"anchor\": \"x\", \"domain\": [0.625, 1.0]}, \"xaxis2\": {\"anchor\": \"y2\", \"domain\": [0.55, 1.0]}, \"yaxis2\": {\"anchor\": \"x2\", \"domain\": [0.625, 1.0]}, \"xaxis3\": {\"anchor\": \"y3\", \"domain\": [0.0, 1.0]}, \"yaxis3\": {\"anchor\": \"x3\", \"domain\": [0.0, 0.375]}, \"showlegend\": true, \"title\": \"Age Distribuition\", \"bargap\": 0.05}, {\"showLink\": true, \"linkText\": \"Export to plot.ly\"})});</script>"
      ],
      "text/vnd.plotly.v1+html": [
       "<div id=\"98e7d307-992c-40ed-8c2d-3cc2b981ebfd\" style=\"height: 525px; width: 100%;\" class=\"plotly-graph-div\"></div><script type=\"text/javascript\">require([\"plotly\"], function(Plotly) { window.PLOTLYENV=window.PLOTLYENV || {};window.PLOTLYENV.BASE_URL=\"https://plot.ly\";Plotly.newPlot(\"98e7d307-992c-40ed-8c2d-3cc2b981ebfd\", [{\"histnorm\": \"probability\", \"name\": \"Died\", \"x\": [39, 59, 47, 48, 47, 33, 42, 50, 57, 38, 47, 49, 43], \"xbins\": {\"end\": 80, \"size\": 5, \"start\": 0}, \"type\": \"histogram\", \"uid\": \"25299a70-b55c-11e8-b904-b88d1204d7f0\", \"xaxis\": \"x\", \"yaxis\": \"y\"}, {\"histnorm\": \"probability\", \"name\": \"Survived\", \"x\": [34, 39, 32, 41, 30, 38, 40, 38, 38, 22, 27, 31, 42, 25, 27, 58, 61, 51, 41, 26, 35, 23, 42, 65, 52, 33, 56, 28, 36, 38, 44, 40, 30, 30, 64, 37, 32, 32, 36, 49, 39, 32, 34, 34, 36, 30, 62, 28, 38, 50, 40, 30, 27, 51, 54, 50, 20, 50, 34, 54, 54, 72, 25, 38, 45, 31, 53], \"xbins\": {\"end\": 80, \"size\": 8, \"start\": 0}, \"type\": \"histogram\", \"uid\": \"252eb906-b55c-11e8-be6f-b88d1204d7f0\", \"xaxis\": \"x2\", \"yaxis\": \"y2\"}, {\"histnorm\": \"probability\", \"name\": \"Overall Age\", \"x\": [34, 39, 32, 41, 30, 38, 40, 38, 38, 22, 27, 31, 42, 25, 27, 58, 61, 51, 39, 41, 26, 35, 23, 42, 65, 52, 33, 56, 28, 36, 38, 44, 40, 30, 30, 64, 37, 32, 32, 36, 49, 39, 32, 34, 34, 36, 30, 62, 28, 38, 50, 59, 40, 30, 47, 48, 27, 51, 47, 54, 33, 42, 50, 20, 50, 34, 50, 54, 57, 54, 72, 38, 25, 38, 47, 45, 49, 31, 53, 43], \"xbins\": {\"end\": 80, \"size\": 5, \"start\": 0}, \"type\": \"histogram\", \"uid\": \"252f9100-b55c-11e8-b7b4-b88d1204d7f0\", \"xaxis\": \"x3\", \"yaxis\": \"y3\"}], {\"annotations\": [{\"font\": {\"size\": 16}, \"showarrow\": false, \"text\": \"Died\", \"x\": 0.225, \"xanchor\": \"center\", \"xref\": \"paper\", \"y\": 1.0, \"yanchor\": \"bottom\", \"yref\": \"paper\"}, {\"font\": {\"size\": 16}, \"showarrow\": false, \"text\": \"Survived\", \"x\": 0.775, \"xanchor\": \"center\", \"xref\": \"paper\", \"y\": 1.0, \"yanchor\": \"bottom\", \"yref\": \"paper\"}, {\"font\": {\"size\": 16}, \"showarrow\": false, \"text\": \"General Distribuition\", \"x\": 0.5, \"xanchor\": \"center\", \"xref\": \"paper\", \"y\": 0.375, \"yanchor\": \"bottom\", \"yref\": \"paper\"}], \"xaxis\": {\"anchor\": \"y\", \"domain\": [0.0, 0.45]}, \"yaxis\": {\"anchor\": \"x\", \"domain\": [0.625, 1.0]}, \"xaxis2\": {\"anchor\": \"y2\", \"domain\": [0.55, 1.0]}, \"yaxis2\": {\"anchor\": \"x2\", \"domain\": [0.625, 1.0]}, \"xaxis3\": {\"anchor\": \"y3\", \"domain\": [0.0, 1.0]}, \"yaxis3\": {\"anchor\": \"x3\", \"domain\": [0.0, 0.375]}, \"showlegend\": true, \"title\": \"Age Distribuition\", \"bargap\": 0.05}, {\"showLink\": true, \"linkText\": \"Export to plot.ly\"})});</script>"
      ]
     },
     "metadata": {},
     "output_type": "display_data"
    },
    {
     "data": {
      "text/plain": [
       "38.5"
      ]
     },
     "execution_count": 5,
     "metadata": {},
     "output_type": "execute_result"
    }
   ],
   "source": [
    "df_die = heptitas.loc[heptitas[\"class\"] == 1]['age'].values.tolist()\n",
    "df_survive = heptitas.loc[heptitas[\"class\"] == 2]['age'].values.tolist()\n",
    "df_age = heptitas['age'].values.tolist()\n",
    "\n",
    "trace0 = go.Histogram(\n",
    "    x=df_die,\n",
    "    xbins=dict(\n",
    "        start=0,\n",
    "        end=80,\n",
    "        size=5\n",
    "    ),\n",
    "    histnorm='probability',\n",
    "    name=\"Died\"\n",
    ")\n",
    "\n",
    "trace1 = go.Histogram(\n",
    "    x=df_survive,\n",
    "    xbins=dict(\n",
    "        start=0,\n",
    "        end=80,\n",
    "        size=8\n",
    "    ),\n",
    "    histnorm='probability',\n",
    "    name=\"Survived\"\n",
    ")\n",
    "\n",
    "trace2 = go.Histogram(\n",
    "    x=df_age,\n",
    "    xbins=dict(\n",
    "        start=0,\n",
    "        end=80,\n",
    "        size=5\n",
    "    ),\n",
    "    histnorm='probability',\n",
    "    name=\"Overall Age\"\n",
    ")\n",
    "\n",
    "fig = tls.make_subplots(rows=2, cols=2, specs=[[{}, {}], [{'colspan': 2}, None]],\n",
    "                          subplot_titles=('Died','Survived', 'General Distribuition'))\n",
    "\n",
    "fig.append_trace(trace0, 1, 1)\n",
    "fig.append_trace(trace1, 1, 2)\n",
    "fig.append_trace(trace2, 2, 1)\n",
    "\n",
    "fig['layout'].update(showlegend=True, title='Age Distribuition', bargap=0.05)\n",
    "py.iplot(fig)\n",
    "np.median(heptitas['age']) # median age 38.5"
   ]
  },
  {
   "cell_type": "code",
   "execution_count": null,
   "metadata": {},
   "outputs": [],
   "source": [
    "trace0 = go.Bar(\n",
    "    x = heptitas[heptitas[\"class\"]== 1][\"sex\"].value_counts().index.values,\n",
    "    y = heptitas[heptitas[\"class\"]== 1][\"sex\"].value_counts().values,\n",
    "    name='Died'\n",
    ")\n",
    "trace1 = go.Bar(\n",
    "    x = heptitas[heptitas[\"class\"]== 2][\"sex\"].value_counts().index.values,\n",
    "    y = heptitas[heptitas[\"class\"]== 2][\"sex\"].value_counts().values,\n",
    "    name=\"Survived\"\n",
    ")\n",
    "trace2 = go.Box(\n",
    "    x = heptitas[heptitas[\"class\"]== 1][\"sex\"],\n",
    "    y = heptitas[heptitas[\"class\"]== 1][\"age\"],\n",
    "    name=trace0.name\n",
    ")\n",
    "trace3 = go.Box(\n",
    "    x = heptitas[heptitas[\"class\"]== 2][\"sex\"],\n",
    "    y = heptitas[heptitas[\"class\"]== 2][\"age\"],\n",
    "    name=trace1.name\n",
    ")\n",
    "data = [trace0, trace1, trace2,trace3]\n",
    "fig = tls.make_subplots(rows=1, cols=2, \n",
    "                        subplot_titles=('Sex Count', 'Age by Sex'))\n",
    "fig.append_trace(trace0, 1, 1)\n",
    "fig.append_trace(trace1, 1, 1)\n",
    "fig.append_trace(trace2, 1, 2)\n",
    "fig.append_trace(trace3, 1, 2)s\n",
    "fig['layout'].update(height=400, width=800, title='Sex Distribuition', boxmode='group')\n",
    "py.iplot(fig)"
   ]
  },
  {
   "cell_type": "code",
   "execution_count": 7,
   "metadata": {},
   "outputs": [
    {
     "data": {
      "text/html": [
       "<div>\n",
       "<style scoped>\n",
       "    .dataframe tbody tr th:only-of-type {\n",
       "        vertical-align: middle;\n",
       "    }\n",
       "\n",
       "    .dataframe tbody tr th {\n",
       "        vertical-align: top;\n",
       "    }\n",
       "\n",
       "    .dataframe thead th {\n",
       "        text-align: right;\n",
       "    }\n",
       "</style>\n",
       "<table border=\"1\" class=\"dataframe\">\n",
       "  <thead>\n",
       "    <tr style=\"text-align: right;\">\n",
       "      <th></th>\n",
       "      <th>age</th>\n",
       "      <th>bilirubin</th>\n",
       "      <th>alk_phosphate</th>\n",
       "      <th>sgot</th>\n",
       "      <th>albumin</th>\n",
       "      <th>protime</th>\n",
       "    </tr>\n",
       "  </thead>\n",
       "  <tbody>\n",
       "    <tr>\n",
       "      <th>age</th>\n",
       "      <td>1.000000</td>\n",
       "      <td>0.160752</td>\n",
       "      <td>0.088183</td>\n",
       "      <td>-0.132269</td>\n",
       "      <td>-0.220464</td>\n",
       "      <td>-0.190169</td>\n",
       "    </tr>\n",
       "    <tr>\n",
       "      <th>bilirubin</th>\n",
       "      <td>0.160752</td>\n",
       "      <td>1.000000</td>\n",
       "      <td>0.316916</td>\n",
       "      <td>0.315108</td>\n",
       "      <td>-0.343683</td>\n",
       "      <td>-0.362055</td>\n",
       "    </tr>\n",
       "    <tr>\n",
       "      <th>alk_phosphate</th>\n",
       "      <td>0.088183</td>\n",
       "      <td>0.316916</td>\n",
       "      <td>1.000000</td>\n",
       "      <td>0.349342</td>\n",
       "      <td>-0.409635</td>\n",
       "      <td>-0.212012</td>\n",
       "    </tr>\n",
       "    <tr>\n",
       "      <th>sgot</th>\n",
       "      <td>-0.132269</td>\n",
       "      <td>0.315108</td>\n",
       "      <td>0.349342</td>\n",
       "      <td>1.000000</td>\n",
       "      <td>-0.113103</td>\n",
       "      <td>-0.144540</td>\n",
       "    </tr>\n",
       "    <tr>\n",
       "      <th>albumin</th>\n",
       "      <td>-0.220464</td>\n",
       "      <td>-0.343683</td>\n",
       "      <td>-0.409635</td>\n",
       "      <td>-0.113103</td>\n",
       "      <td>1.000000</td>\n",
       "      <td>0.434659</td>\n",
       "    </tr>\n",
       "    <tr>\n",
       "      <th>protime</th>\n",
       "      <td>-0.190169</td>\n",
       "      <td>-0.362055</td>\n",
       "      <td>-0.212012</td>\n",
       "      <td>-0.144540</td>\n",
       "      <td>0.434659</td>\n",
       "      <td>1.000000</td>\n",
       "    </tr>\n",
       "  </tbody>\n",
       "</table>\n",
       "</div>"
      ],
      "text/plain": [
       "                    age  bilirubin  alk_phosphate      sgot   albumin  \\\n",
       "age            1.000000   0.160752       0.088183 -0.132269 -0.220464   \n",
       "bilirubin      0.160752   1.000000       0.316916  0.315108 -0.343683   \n",
       "alk_phosphate  0.088183   0.316916       1.000000  0.349342 -0.409635   \n",
       "sgot          -0.132269   0.315108       0.349342  1.000000 -0.113103   \n",
       "albumin       -0.220464  -0.343683      -0.409635 -0.113103  1.000000   \n",
       "protime       -0.190169  -0.362055      -0.212012 -0.144540  0.434659   \n",
       "\n",
       "                protime  \n",
       "age           -0.190169  \n",
       "bilirubin     -0.362055  \n",
       "alk_phosphate -0.212012  \n",
       "sgot          -0.144540  \n",
       "albumin        0.434659  \n",
       "protime        1.000000  "
      ]
     },
     "execution_count": 7,
     "metadata": {},
     "output_type": "execute_result"
    }
   ],
   "source": [
    "col = [\"age\", \"bilirubin\", \"alk_phosphate\", \"sgot\", \"albumin\", \"protime\"]\n",
    "\n",
    "correlations = pd.DataFrame.corr(heptitas[col])\n",
    "correlations"
   ]
  },
  {
   "cell_type": "code",
   "execution_count": 8,
   "metadata": {},
   "outputs": [
    {
     "data": {
      "text/plain": [
       "albumin        bilirubin        0.343683\n",
       "alk_phosphate  sgot             0.349342\n",
       "sgot           alk_phosphate    0.349342\n",
       "bilirubin      protime          0.362055\n",
       "protime        bilirubin        0.362055\n",
       "alk_phosphate  albumin          0.409635\n",
       "albumin        alk_phosphate    0.409635\n",
       "protime        albumin          0.434659\n",
       "albumin        protime          0.434659\n",
       "dtype: float64"
      ]
     },
     "execution_count": 8,
     "metadata": {},
     "output_type": "execute_result"
    }
   ],
   "source": [
    "corr_high_low = heptitas[col].corr().abs()\n",
    "s = corr_high_low.unstack()\n",
    "so = s.sort_values(kind=\"quicksort\")\n",
    "so[-15:-6]"
   ]
  },
  {
   "cell_type": "code",
   "execution_count": 9,
   "metadata": {},
   "outputs": [
    {
     "name": "stdout",
     "output_type": "stream",
     "text": [
      "Accuracy: 0.7916666666666666\n"
     ]
    }
   ],
   "source": [
    "X = heptitas.drop([\"class\"], axis=1)\n",
    "y = heptitas['class']\n",
    "\n",
    "X_train, X_test, y_train, y_test = train_test_split(X, y, test_size=0.3, random_state=1)\n",
    "clf = RandomForestClassifier(n_estimators=5)\n",
    "clf.fit(X_train, y_train)\n",
    "print(\"Accuracy:\", clf.score(X_test, y_test));"
   ]
  },
  {
   "cell_type": "code",
   "execution_count": 10,
   "metadata": {},
   "outputs": [
    {
     "data": {
      "image/png": "[encoded data removed]",
      "text/plain": [
       "<matplotlib.figure.Figure at 0x1a1901b898>"
      ]
     },
     "metadata": {},
     "output_type": "display_data"
    }
   ],
   "source": [
    "cm = pd.DataFrame(confusion_matrix(y_test, y_test), columns=[\"Died\", \"Survived\"], index=[\"Died\", \"Survived\"])\n",
    "sns.heatmap(cm, cmap=\"YlGnBu\");"
   ]
  },
  {
   "cell_type": "code",
   "execution_count": 11,
   "metadata": {},
   "outputs": [
    {
     "data": {
      "image/png": "[encoded data removed]",
      "text/plain": [
       "<matplotlib.figure.Figure at 0x1a182f9a90>"
      ]
     },
     "metadata": {},
     "output_type": "display_data"
    }
   ],
   "source": [
    "important_features = pd.Series(clf.feature_importances_, index=X_train.columns).sort_values(ascending=False)\n",
    "ax1 = sns.barplot(x=important_features, y=important_features.index)\n",
    "\n",
    "ax1.set(xlabel='Feature Importance Score', ylabel='common ylabel', title = \"Feature Importance\");"
   ]
  },
  {
   "cell_type": "code",
   "execution_count": 12,
   "metadata": {},
   "outputs": [],
   "source": [
    "estimators = np.zeros(20)\n",
    "rf_score = np.zeros(20);\n",
    "for i in range(0, 20):\n",
    "    clf = RandomForestClassifier(n_estimators=i+1, random_state=1)\n",
    "    clf.fit(X_train, y_train)\n",
    "    estimators[i] = i+1\n",
    "    rf_score[i] = clf.score(X_test, y_test)\n",
    "error = 1 - rf_score;"
   ]
  },
  {
   "cell_type": "code",
   "execution_count": 13,
   "metadata": {},
   "outputs": [
    {
     "data": {
      "image/png": "[encoded data removed]",
      "text/plain": [
       "<matplotlib.figure.Figure at 0x1a1b580cc0>"
      ]
     },
     "metadata": {},
     "output_type": "display_data"
    }
   ],
   "source": [
    "ax2 = sns.lineplot(x=estimators, y=error, label = \"Misclassification\")\n",
    "ax2.set(xlabel=\"Number of Trees\", ylabel=\"Test Error\");"
   ]
  },
  {
   "cell_type": "code",
   "execution_count": 15,
   "metadata": {},
   "outputs": [],
   "source": [
    "heptitas = heptitas.drop([\"spleen_palpable\", \"antviral\", \"sex\"], axis=1)\n",
    "X = heptitas.drop([\"class\"], axis=1)\n",
    "y = heptitas['class']    # target"
   ]
  },
  {
   "cell_type": "code",
   "execution_count": 16,
   "metadata": {},
   "outputs": [
    {
     "name": "stdout",
     "output_type": "stream",
     "text": [
      "Accuracy: 0.875\n"
     ]
    }
   ],
   "source": [
    "X_train, X_test, y_train, y_test = train_test_split(X, y, test_size=0.3, random_state=1)  #70% train, 30% test\n",
    "clf = RandomForestClassifier(n_estimators=4)  \n",
    "clf.fit(X_train, y_train)\n",
    "print(\"Accuracy:\", clf.score(X_test, y_test));"
   ]
  }
 ],
 "metadata": {
  "kernelspec": {
   "display_name": "Python 3",
   "language": "python",
   "name": "python3"
  },
  "language_info": {
   "codemirror_mode": {
    "name": "ipython",
    "version": 3
   },
   "file_extension": ".py",
   "mimetype": "text/x-python",
   "name": "python",
   "nbconvert_exporter": "python",
   "pygments_lexer": "ipython3",
   "version": "3.6.8"
  },
  "varInspector": {
   "cols": {
    "lenName": 16,
    "lenType": 16,
    "lenVar": 40
   },
   "kernels_config": {
    "python": {
     "delete_cmd_postfix": "",
     "delete_cmd_prefix": "del ",
     "library": "var_list.py",
     "varRefreshCmd": "print(var_dic_list())"
    },
    "r": {
     "delete_cmd_postfix": ") ",
     "delete_cmd_prefix": "rm(",
     "library": "var_list.r",
     "varRefreshCmd": "cat(var_dic_list()) "
    }
   },
   "types_to_exclude": [
    "module",
    "function",
    "builtin_function_or_method",
    "instance",
    "_Feature"
   ],
   "window_display": false
  }
 },
 "nbformat": 4,
 "nbformat_minor": 2
}
